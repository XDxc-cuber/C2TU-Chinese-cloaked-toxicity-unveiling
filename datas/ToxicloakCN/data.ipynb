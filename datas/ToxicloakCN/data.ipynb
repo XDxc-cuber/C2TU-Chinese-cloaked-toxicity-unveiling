{
 "cells": [
  {
   "cell_type": "code",
   "execution_count": 3,
   "metadata": {},
   "outputs": [],
   "source": [
    "import json\n",
    "\n",
    "def f(p):\n",
    "    datas = []\n",
    "    with open(p, \"r\", encoding=\"utf-8\") as f:\n",
    "        datas = json.loads(\"\".join(f.readlines()))\n",
    "    return datas\n",
    "\n"
   ]
  },
  {
   "cell_type": "code",
   "execution_count": 7,
   "metadata": {},
   "outputs": [
    {
     "data": {
      "text/plain": [
       "4586"
      ]
     },
     "execution_count": 7,
     "metadata": {},
     "output_type": "execute_result"
    }
   ],
   "source": [
    "len(f(\"Toxic_key.json\"))"
   ]
  },
  {
   "cell_type": "code",
   "execution_count": 4,
   "metadata": {},
   "outputs": [
    {
     "name": "stdout",
     "output_type": "stream",
     "text": [
      "2\n",
      "``黑鬼'', ``黑人'', ``非裔'', ``黑奴'', ``黑命'', ``白佬'', ``白人'', ``阿三'', ``华人'', ``亚裔'', ``移民'', ``日本'', ``韩国'', ``日韩'', ``外省'', ``内地'', ``大陆'', ``乡下'', ``外地'', ``农村'', ``河北'', ``山西'', ``辽宁'', ``吉林'', ``江苏'', ``浙江'', ``安徽'', ``福建'', ``江西'', ``山东'', ``河南'', ``湖北'', ``湖南'', ``广东'', ``海南'', ``四川'', ``贵州'', ``云南'', ``陕西'', ``甘肃'', ``青海'', ``台湾'', ``广西'', ``西藏'', ``宁夏'', ``新疆'', ``香港'', ``澳门'', ``北京'', ``天津'', ``上海'', ``重庆'', ``苏北'', ``苏南'', ``东北'', ``长春'', ``赤峰'', ``潮汕'', ``西北'', ``女权'', ``女拳'', ``男权'', ``男拳'', ``小三'', ``妇女'', ``主妇'', ``女人'', ``女性'', ``女生'', ``女方'', ``女友'', ``男友'', ``老婆'', ``女孩'', ``少女'', ``女神'', ``男人'', ``男性'', ``男生'', ``男方'', ``老公'', ``丈夫'', ``男孩'', ``爸爸'', ``妈妈'', \n",
      "3\n",
      "``非洲裔'', ``非洲裔'', ``印度人'', ``中国人'', ``黄种人'', ``黄皮子'', ``拉丁裔'', ``东南亚'', ``犹太人'', ``南亚裔'', ``亚洲人'', ``地域黑'', ``城里人'', ``黑龙江'', ``内蒙古'', ``江浙沪'', ``同性恋'', ``外地女'', ``女司机'', ``女朋友'', ``男朋友'', ``肌肉男'', \n",
      "4\n",
      "``白人女性'', ``白人老爷'', ``种族偏见'', ``种族歧视'', ``地域偏见'', ``地域歧视'', ``性别歧视'', ``重男轻女'', \n"
     ]
    }
   ],
   "source": [
    "import json\n",
    "\n",
    "with open(\"../../homoGraphs/COLD_homoGraph/lexicons.json\", \"r\", encoding=\"utf-8\") as f:\n",
    "    datas = json.loads(\"\".join(f.readlines()))\n",
    "    d = {}\n",
    "    for data in datas:\n",
    "        n = len(data)\n",
    "        if n in d:\n",
    "            d[n].append(data)\n",
    "        else:\n",
    "            d[n] = [data]\n",
    "    for k, v in d.items():\n",
    "        print(k)\n",
    "        for vv in v:\n",
    "            print(\"``%s'', \" % vv, end=\"\")\n",
    "        print()"
   ]
  },
  {
   "cell_type": "code",
   "execution_count": null,
   "metadata": {},
   "outputs": [],
   "source": []
  }
 ],
 "metadata": {
  "kernelspec": {
   "display_name": "xc",
   "language": "python",
   "name": "python3"
  },
  "language_info": {
   "codemirror_mode": {
    "name": "ipython",
    "version": 3
   },
   "file_extension": ".py",
   "mimetype": "text/x-python",
   "name": "python",
   "nbconvert_exporter": "python",
   "pygments_lexer": "ipython3",
   "version": "3.10.11"
  }
 },
 "nbformat": 4,
 "nbformat_minor": 2
}
