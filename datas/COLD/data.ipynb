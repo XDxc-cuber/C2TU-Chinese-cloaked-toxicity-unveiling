{
 "cells": [
  {
   "cell_type": "code",
   "execution_count": 1,
   "metadata": {},
   "outputs": [],
   "source": [
    "import torch\n",
    "import torch.nn as nn\n",
    "import json\n",
    "import random\n",
    "import numpy as np\n",
    "import pandas as pd\n",
    "\n",
    "def set_seed(seed):\n",
    "    random.seed(seed)\n",
    "    np.random.seed(seed)\n",
    "    torch.manual_seed(seed)\n",
    "    torch.cuda.manual_seed_all(seed)"
   ]
  },
  {
   "cell_type": "code",
   "execution_count": 2,
   "metadata": {},
   "outputs": [],
   "source": [
    "train = pd.read_csv(\"train.csv\", encoding=\"utf-8\")\n",
    "dev = pd.read_csv(\"dev.csv\", encoding=\"utf-8\")\n",
    "test = pd.read_csv(\"test.csv\", encoding=\"utf-8\")"
   ]
  },
  {
   "cell_type": "code",
   "execution_count": 3,
   "metadata": {},
   "outputs": [
    {
     "data": {
      "text/html": [
       "<div>\n",
       "<style scoped>\n",
       "    .dataframe tbody tr th:only-of-type {\n",
       "        vertical-align: middle;\n",
       "    }\n",
       "\n",
       "    .dataframe tbody tr th {\n",
       "        vertical-align: top;\n",
       "    }\n",
       "\n",
       "    .dataframe thead th {\n",
       "        text-align: right;\n",
       "    }\n",
       "</style>\n",
       "<table border=\"1\" class=\"dataframe\">\n",
       "  <thead>\n",
       "    <tr style=\"text-align: right;\">\n",
       "      <th></th>\n",
       "      <th>Unnamed: 0</th>\n",
       "      <th>split</th>\n",
       "      <th>topic</th>\n",
       "      <th>label</th>\n",
       "      <th>TEXT</th>\n",
       "    </tr>\n",
       "  </thead>\n",
       "  <tbody>\n",
       "    <tr>\n",
       "      <th>0</th>\n",
       "      <td>7089</td>\n",
       "      <td>train</td>\n",
       "      <td>race</td>\n",
       "      <td>1</td>\n",
       "      <td>也是，想想物流爆仓等半个月和打砸抢烧丧尸围城一般冒着被黑人胖大妈一屁股坐死的风险半夜2点去门...</td>\n",
       "    </tr>\n",
       "    <tr>\n",
       "      <th>1</th>\n",
       "      <td>1082</td>\n",
       "      <td>train</td>\n",
       "      <td>region</td>\n",
       "      <td>1</td>\n",
       "      <td>说这些。四川人是不是只有喝西北风才健康啊。抛开剂量谈毒性都是垃圾</td>\n",
       "    </tr>\n",
       "    <tr>\n",
       "      <th>2</th>\n",
       "      <td>922</td>\n",
       "      <td>train</td>\n",
       "      <td>race</td>\n",
       "      <td>0</td>\n",
       "      <td>不同构成，有绿绿也有天主教，两样都很多的，有真正非洲黑也有南亚那种黑，不过也没有很多，至少不...</td>\n",
       "    </tr>\n",
       "    <tr>\n",
       "      <th>3</th>\n",
       "      <td>751</td>\n",
       "      <td>train</td>\n",
       "      <td>region</td>\n",
       "      <td>0</td>\n",
       "      <td>台湾人这么说</td>\n",
       "    </tr>\n",
       "    <tr>\n",
       "      <th>4</th>\n",
       "      <td>1355</td>\n",
       "      <td>train</td>\n",
       "      <td>region</td>\n",
       "      <td>0</td>\n",
       "      <td>曾泽生肯定是不稳的，想都想得到。人滇军是被强行绑票到东北了。被扔在长春这个铁桶里饿了大半年，...</td>\n",
       "    </tr>\n",
       "  </tbody>\n",
       "</table>\n",
       "</div>"
      ],
      "text/plain": [
       "   Unnamed: 0  split   topic  label  \\\n",
       "0        7089  train    race      1   \n",
       "1        1082  train  region      1   \n",
       "2         922  train    race      0   \n",
       "3         751  train  region      0   \n",
       "4        1355  train  region      0   \n",
       "\n",
       "                                                TEXT  \n",
       "0  也是，想想物流爆仓等半个月和打砸抢烧丧尸围城一般冒着被黑人胖大妈一屁股坐死的风险半夜2点去门...  \n",
       "1                   说这些。四川人是不是只有喝西北风才健康啊。抛开剂量谈毒性都是垃圾  \n",
       "2  不同构成，有绿绿也有天主教，两样都很多的，有真正非洲黑也有南亚那种黑，不过也没有很多，至少不...  \n",
       "3                                             台湾人这么说  \n",
       "4  曾泽生肯定是不稳的，想都想得到。人滇军是被强行绑票到东北了。被扔在长春这个铁桶里饿了大半年，...  "
      ]
     },
     "execution_count": 3,
     "metadata": {},
     "output_type": "execute_result"
    }
   ],
   "source": [
    "train.head()\n"
   ]
  },
  {
   "cell_type": "code",
   "execution_count": 4,
   "metadata": {},
   "outputs": [
    {
     "data": {
      "text/html": [
       "<div>\n",
       "<style scoped>\n",
       "    .dataframe tbody tr th:only-of-type {\n",
       "        vertical-align: middle;\n",
       "    }\n",
       "\n",
       "    .dataframe tbody tr th {\n",
       "        vertical-align: top;\n",
       "    }\n",
       "\n",
       "    .dataframe thead th {\n",
       "        text-align: right;\n",
       "    }\n",
       "</style>\n",
       "<table border=\"1\" class=\"dataframe\">\n",
       "  <thead>\n",
       "    <tr style=\"text-align: right;\">\n",
       "      <th></th>\n",
       "      <th>Unnamed: 0</th>\n",
       "      <th>split</th>\n",
       "      <th>topic</th>\n",
       "      <th>label</th>\n",
       "      <th>fine-grained-label</th>\n",
       "      <th>TEXT</th>\n",
       "    </tr>\n",
       "  </thead>\n",
       "  <tbody>\n",
       "    <tr>\n",
       "      <th>0</th>\n",
       "      <td>1949</td>\n",
       "      <td>test</td>\n",
       "      <td>race</td>\n",
       "      <td>1</td>\n",
       "      <td>2</td>\n",
       "      <td>只要不来中国的外国人就是好外国人[机智]</td>\n",
       "    </tr>\n",
       "    <tr>\n",
       "      <th>1</th>\n",
       "      <td>3109</td>\n",
       "      <td>test</td>\n",
       "      <td>gender</td>\n",
       "      <td>1</td>\n",
       "      <td>2</td>\n",
       "      <td>这种男人又无耻又恶心，自己算什么东西，要求女的这样那样</td>\n",
       "    </tr>\n",
       "    <tr>\n",
       "      <th>2</th>\n",
       "      <td>4485</td>\n",
       "      <td>test</td>\n",
       "      <td>race</td>\n",
       "      <td>1</td>\n",
       "      <td>2</td>\n",
       "      <td>美国黑人没啥成就是贫穷造成的。 如果像你想的这么简单，自古同脉同宗的湖南湖北人岂不是两个物种。</td>\n",
       "    </tr>\n",
       "    <tr>\n",
       "      <th>3</th>\n",
       "      <td>3524</td>\n",
       "      <td>test</td>\n",
       "      <td>gender</td>\n",
       "      <td>1</td>\n",
       "      <td>1</td>\n",
       "      <td>当你说出那句并无歧视的时候，你就已经在歧视了。因为你默认爱嚼舌根是女性的特点。</td>\n",
       "    </tr>\n",
       "    <tr>\n",
       "      <th>4</th>\n",
       "      <td>3245</td>\n",
       "      <td>test</td>\n",
       "      <td>region</td>\n",
       "      <td>0</td>\n",
       "      <td>3</td>\n",
       "      <td>大陆公民都能扭送现行犯的，台湾不清楚</td>\n",
       "    </tr>\n",
       "  </tbody>\n",
       "</table>\n",
       "</div>"
      ],
      "text/plain": [
       "   Unnamed: 0 split   topic  label  fine-grained-label  \\\n",
       "0        1949  test    race      1                   2   \n",
       "1        3109  test  gender      1                   2   \n",
       "2        4485  test    race      1                   2   \n",
       "3        3524  test  gender      1                   1   \n",
       "4        3245  test  region      0                   3   \n",
       "\n",
       "                                              TEXT  \n",
       "0                             只要不来中国的外国人就是好外国人[机智]  \n",
       "1                      这种男人又无耻又恶心，自己算什么东西，要求女的这样那样  \n",
       "2  美国黑人没啥成就是贫穷造成的。 如果像你想的这么简单，自古同脉同宗的湖南湖北人岂不是两个物种。  \n",
       "3          当你说出那句并无歧视的时候，你就已经在歧视了。因为你默认爱嚼舌根是女性的特点。  \n",
       "4                               大陆公民都能扭送现行犯的，台湾不清楚  "
      ]
     },
     "execution_count": 4,
     "metadata": {},
     "output_type": "execute_result"
    }
   ],
   "source": [
    "test.head()"
   ]
  },
  {
   "cell_type": "code",
   "execution_count": 5,
   "metadata": {},
   "outputs": [],
   "source": [
    "train_data = []\n",
    "for data in train.values:\n",
    "    train_data.append({\"text\": data[4], \"label\": data[3]})"
   ]
  },
  {
   "cell_type": "code",
   "execution_count": 6,
   "metadata": {},
   "outputs": [],
   "source": [
    "dev_data = []\n",
    "for data in dev.values:\n",
    "    dev_data.append({\"text\": data[4], \"label\": data[3]})"
   ]
  },
  {
   "cell_type": "code",
   "execution_count": 7,
   "metadata": {},
   "outputs": [],
   "source": [
    "test_data = []\n",
    "for data in test.values:\n",
    "    test_data.append({\"text\": data[5], \"label\": data[3]})"
   ]
  },
  {
   "cell_type": "code",
   "execution_count": 11,
   "metadata": {},
   "outputs": [],
   "source": [
    "datas = dev_data + test_data"
   ]
  },
  {
   "cell_type": "code",
   "execution_count": 19,
   "metadata": {},
   "outputs": [
    {
     "data": {
      "text/plain": [
       "11754"
      ]
     },
     "execution_count": 19,
     "metadata": {},
     "output_type": "execute_result"
    }
   ],
   "source": [
    "len(datas)"
   ]
  },
  {
   "cell_type": "code",
   "execution_count": 18,
   "metadata": {},
   "outputs": [
    {
     "data": {
      "text/plain": [
       "115"
      ]
     },
     "execution_count": 18,
     "metadata": {},
     "output_type": "execute_result"
    }
   ],
   "source": [
    "import json\n",
    "\n",
    "lexicons = []\n",
    "with open(\"COLD_lexicons.json\", \"r\", encoding=\"utf-8\") as f:\n",
    "    lexicons = json.loads(\"\".join(f.readlines()))\n",
    "len(lexicons)"
   ]
  },
  {
   "cell_type": "code",
   "execution_count": 20,
   "metadata": {},
   "outputs": [
    {
     "data": {
      "text/plain": [
       "10415"
      ]
     },
     "execution_count": 20,
     "metadata": {},
     "output_type": "execute_result"
    }
   ],
   "source": [
    "lexicon_datas = []\n",
    "for data in datas:\n",
    "    for lexicon in lexicons:\n",
    "        if lexicon in data[\"text\"]:\n",
    "            lexicon_datas.append(data)\n",
    "            break\n",
    "len(lexicon_datas)"
   ]
  },
  {
   "cell_type": "code",
   "execution_count": 21,
   "metadata": {},
   "outputs": [
    {
     "data": {
      "text/plain": [
       "4821"
      ]
     },
     "execution_count": 21,
     "metadata": {},
     "output_type": "execute_result"
    }
   ],
   "source": [
    "sum(x[\"label\"] for x in lexicon_datas)"
   ]
  },
  {
   "cell_type": "code",
   "execution_count": 22,
   "metadata": {},
   "outputs": [],
   "source": [
    "with open(\"COLD_base.json\", \"x\", encoding=\"utf-8\") as f:\n",
    "    f.write(json.dumps(lexicon_datas, ensure_ascii=False))"
   ]
  },
  {
   "cell_type": "code",
   "execution_count": null,
   "metadata": {},
   "outputs": [],
   "source": []
  }
 ],
 "metadata": {
  "kernelspec": {
   "display_name": "xc",
   "language": "python",
   "name": "python3"
  },
  "language_info": {
   "codemirror_mode": {
    "name": "ipython",
    "version": 3
   },
   "file_extension": ".py",
   "mimetype": "text/x-python",
   "name": "python",
   "nbconvert_exporter": "python",
   "pygments_lexer": "ipython3",
   "version": "3.10.11"
  }
 },
 "nbformat": 4,
 "nbformat_minor": 2
}
