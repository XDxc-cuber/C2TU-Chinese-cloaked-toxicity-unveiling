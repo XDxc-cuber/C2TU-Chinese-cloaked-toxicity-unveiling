{
 "cells": [
  {
   "cell_type": "code",
   "execution_count": 1,
   "metadata": {},
   "outputs": [
    {
     "name": "stdout",
     "output_type": "stream",
     "text": [
      "# jionlp - 微信公众号: JioNLP  Github: `https://github.com/dongrixinyu/JioNLP`.\n",
      "# jiojio - `http://www.jionlp.com/jionlp_online/cws_pos` is available for online trial.\n"
     ]
    }
   ],
   "source": [
    "import json\n",
    "import jionlp"
   ]
  },
  {
   "cell_type": "code",
   "execution_count": 2,
   "metadata": {},
   "outputs": [],
   "source": [
    "lexicons = []\n",
    "with open(\"COLD_lexicons.json\", \"r\", encoding=\"utf-8\") as f:\n",
    "    lexicons = json.loads(\"\".join(f.readlines()))\n",
    "base_datas = []\n",
    "with open(\"COLD_train.json\", \"r\", encoding=\"utf-8\") as f:\n",
    "    base_datas = json.loads(\"\".join(f.readlines()))"
   ]
  },
  {
   "cell_type": "code",
   "execution_count": 3,
   "metadata": {},
   "outputs": [],
   "source": [
    "import random\n",
    "\n",
    "random.seed(2025)\n",
    "\n",
    "key_datas = []\n",
    "for data in base_datas:\n",
    "    text = data[\"text\"]\n",
    "    new_text = text[:]\n",
    "    for lexicon in lexicons:\n",
    "        if lexicon in text:\n",
    "            lexicon_list = list(lexicon)\n",
    "            for i, char in enumerate(lexicon_list):\n",
    "                new_char = char\n",
    "                new_chars = jionlp.homophone_substitution(char, homo_ratio=1)\n",
    "                if len(new_chars):\n",
    "                    new_char = random.choice(new_chars)\n",
    "                lexicon_list[i] = new_char\n",
    "            new_lexicon = \"\".join(lexicon_list)\n",
    "            new_text = new_text.replace(lexicon, new_lexicon)\n",
    "    key_datas.append({\"text\": new_text, \"label\": data[\"label\"]})\n",
    "with open(\"COLD_train_key.json\", \"x\", encoding=\"utf-8\") as f:\n",
    "    f.write(json.dumps(key_datas, ensure_ascii=False))"
   ]
  },
  {
   "cell_type": "code",
   "execution_count": null,
   "metadata": {},
   "outputs": [],
   "source": []
  }
 ],
 "metadata": {
  "kernelspec": {
   "display_name": "xc",
   "language": "python",
   "name": "python3"
  },
  "language_info": {
   "codemirror_mode": {
    "name": "ipython",
    "version": 3
   },
   "file_extension": ".py",
   "mimetype": "text/x-python",
   "name": "python",
   "nbconvert_exporter": "python",
   "pygments_lexer": "ipython3",
   "version": "3.10.11"
  }
 },
 "nbformat": 4,
 "nbformat_minor": 2
}
