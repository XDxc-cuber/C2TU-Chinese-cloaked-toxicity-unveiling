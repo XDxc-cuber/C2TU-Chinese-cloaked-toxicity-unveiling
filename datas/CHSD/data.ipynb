{
 "cells": [
  {
   "cell_type": "code",
   "execution_count": 1,
   "metadata": {},
   "outputs": [],
   "source": [
    "import json\n",
    "import pandas as pd\n"
   ]
  },
  {
   "cell_type": "code",
   "execution_count": 2,
   "metadata": {},
   "outputs": [],
   "source": [
    "chsd_train = pd.read_csv(\"train.csv\", encoding=\"utf-8\")\n",
    "chsd_test = pd.read_csv(\"test.csv\", encoding=\"utf-8\")"
   ]
  },
  {
   "cell_type": "code",
   "execution_count": 7,
   "metadata": {},
   "outputs": [],
   "source": [
    "chsd_texts = []\n",
    "for i in range(len(chsd_train)):\n",
    "    chsd_texts.append(chsd_train.iloc[i, 1].strip())\n",
    "for i in range(len(chsd_test)):\n",
    "    chsd_texts.append(chsd_test.iloc[i, 1].strip())"
   ]
  },
  {
   "cell_type": "code",
   "execution_count": 9,
   "metadata": {},
   "outputs": [],
   "source": [
    "COLD_lexicons = []\n",
    "Toxic_lexicons = []\n",
    "with open(\"../COLD/COLD_lexicons.json\", \"r\", encoding=\"utf-8\") as f:\n",
    "    COLD_lexicons = json.loads(\"\".join(f.readlines()))\n",
    "with open(\"../Toxic_rest/full_lexicon.json\", \"r\", encoding=\"utf-8\") as f:\n",
    "    Toxic_lexicons = json.loads(\"\".join(f.readlines()))"
   ]
  },
  {
   "cell_type": "code",
   "execution_count": 10,
   "metadata": {},
   "outputs": [
    {
     "data": {
      "text/plain": [
       "17430"
      ]
     },
     "execution_count": 10,
     "metadata": {},
     "output_type": "execute_result"
    }
   ],
   "source": [
    "len(chsd_texts)"
   ]
  },
  {
   "cell_type": "code",
   "execution_count": 11,
   "metadata": {},
   "outputs": [],
   "source": [
    "have_lexicon_COLD = []\n",
    "have_lexicon_Toxic = []\n",
    "for i in range(len(chsd_texts)):\n",
    "    COLD_flag, Toxic_flag = False, False\n",
    "    for l in COLD_lexicons:\n",
    "        if l in chsd_texts[i]:\n",
    "            have_lexicon_COLD.append(1)\n",
    "            COLD_flag = True\n",
    "            break\n",
    "    if not COLD_flag:\n",
    "        have_lexicon_COLD.append(0)\n",
    "    for l in Toxic_lexicons:\n",
    "        if l in chsd_texts[i]:\n",
    "            have_lexicon_Toxic.append(1)\n",
    "            Toxic_flag = True\n",
    "            break\n",
    "    if not Toxic_flag:\n",
    "        have_lexicon_Toxic.append(0)\n",
    "\n",
    "        "
   ]
  },
  {
   "cell_type": "code",
   "execution_count": 12,
   "metadata": {},
   "outputs": [
    {
     "data": {
      "text/plain": [
       "(15502, 4492)"
      ]
     },
     "execution_count": 12,
     "metadata": {},
     "output_type": "execute_result"
    }
   ],
   "source": [
    "sum(have_lexicon_COLD), sum(have_lexicon_Toxic)"
   ]
  },
  {
   "cell_type": "code",
   "execution_count": 16,
   "metadata": {},
   "outputs": [
    {
     "data": {
      "text/plain": [
       "10415"
      ]
     },
     "execution_count": 16,
     "metadata": {},
     "output_type": "execute_result"
    }
   ],
   "source": [
    "COLD_test = []\n",
    "with open(\"../COLD/COLD_base.json\", \"r\", encoding=\"utf-8\") as f:\n",
    "    COLD_test = json.loads(\"\".join(f.readlines()))\n",
    "COLD_test = [t[\"text\"].strip() for t in COLD_test]\n",
    "len(COLD_test)"
   ]
  },
  {
   "cell_type": "code",
   "execution_count": 17,
   "metadata": {},
   "outputs": [],
   "source": [
    "chsd_base = []\n",
    "for i, text in enumerate(chsd_texts):\n",
    "    if not text.strip() in COLD_test and (have_lexicon_COLD[i] or have_lexicon_Toxic[i]):\n",
    "        chsd_base.append(text.strip())"
   ]
  },
  {
   "cell_type": "code",
   "execution_count": 18,
   "metadata": {},
   "outputs": [
    {
     "data": {
      "text/plain": [
       "6884"
      ]
     },
     "execution_count": 18,
     "metadata": {},
     "output_type": "execute_result"
    }
   ],
   "source": [
    "len(chsd_base)"
   ]
  },
  {
   "cell_type": "code",
   "execution_count": 22,
   "metadata": {},
   "outputs": [],
   "source": [
    "chsd_base_toxic, chsd_base_cold, chsd_base_both = [], [], []\n",
    "for text in chsd_base:\n",
    "    f1, f2 = 0, 0\n",
    "    for l in COLD_lexicons:\n",
    "        if l in text:\n",
    "            f1 = 1\n",
    "            break\n",
    "    for l in Toxic_lexicons:\n",
    "        if l in text:\n",
    "            f2 = 1\n",
    "            break\n",
    "    if f1 and f2:\n",
    "        chsd_base_both.append(text)\n",
    "    elif f1:\n",
    "        chsd_base_cold.append(text)\n",
    "    elif f2:\n",
    "        chsd_base_toxic.append(text)"
   ]
  },
  {
   "cell_type": "code",
   "execution_count": 23,
   "metadata": {},
   "outputs": [
    {
     "data": {
      "text/plain": [
       "(542, 4636, 1706)"
      ]
     },
     "execution_count": 23,
     "metadata": {},
     "output_type": "execute_result"
    }
   ],
   "source": [
    "len(chsd_base_toxic), len(chsd_base_cold), len(chsd_base_both)"
   ]
  },
  {
   "cell_type": "code",
   "execution_count": 24,
   "metadata": {},
   "outputs": [],
   "source": [
    "import random\n",
    "\n",
    "random.seed(2025)\n",
    "random.shuffle(chsd_base_cold)\n",
    "chsd_base_cold = chsd_base_cold[:len(chsd_base_toxic)]"
   ]
  },
  {
   "cell_type": "code",
   "execution_count": 25,
   "metadata": {},
   "outputs": [
    {
     "data": {
      "text/plain": [
       "2790"
      ]
     },
     "execution_count": 25,
     "metadata": {},
     "output_type": "execute_result"
    }
   ],
   "source": [
    "chsd_base = chsd_base_toxic + chsd_base_cold + chsd_base_both\n",
    "len(chsd_base)"
   ]
  },
  {
   "cell_type": "code",
   "execution_count": 26,
   "metadata": {},
   "outputs": [],
   "source": [
    "chsd_base = [{\"text\": x} for x in chsd_base]"
   ]
  },
  {
   "cell_type": "code",
   "execution_count": 27,
   "metadata": {},
   "outputs": [],
   "source": [
    "with open(\"CHSD_base.json\", \"x\", encoding=\"utf-8\") as f:\n",
    "    f.write(json.dumps(chsd_base, ensure_ascii=False))"
   ]
  },
  {
   "cell_type": "code",
   "execution_count": null,
   "metadata": {},
   "outputs": [],
   "source": []
  }
 ],
 "metadata": {
  "kernelspec": {
   "display_name": "xc",
   "language": "python",
   "name": "python3"
  },
  "language_info": {
   "codemirror_mode": {
    "name": "ipython",
    "version": 3
   },
   "file_extension": ".py",
   "mimetype": "text/x-python",
   "name": "python",
   "nbconvert_exporter": "python",
   "pygments_lexer": "ipython3",
   "version": "3.10.11"
  }
 },
 "nbformat": 4,
 "nbformat_minor": 2
}
