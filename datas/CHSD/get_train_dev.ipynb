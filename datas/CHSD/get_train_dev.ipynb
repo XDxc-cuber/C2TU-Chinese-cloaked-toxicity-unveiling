{
 "cells": [
  {
   "cell_type": "code",
   "execution_count": 2,
   "metadata": {},
   "outputs": [],
   "source": [
    "import json\n"
   ]
  },
  {
   "cell_type": "code",
   "execution_count": 3,
   "metadata": {},
   "outputs": [],
   "source": [
    "base_datas, key_datas = [], []\n",
    "with open(\"CHSD_base.json\", \"r\", encoding='utf-8') as f:\n",
    "    base_datas = json.loads(f.readlines()[0])\n",
    "with open(\"CHSD_key.json\", \"r\", encoding='utf-8') as f:\n",
    "    key_datas = json.loads(f.readlines()[0])"
   ]
  },
  {
   "cell_type": "code",
   "execution_count": 4,
   "metadata": {},
   "outputs": [],
   "source": [
    "N = len(base_datas)\n",
    "train_N = int(N * 0.8)\n",
    "dev_N = N - train_N"
   ]
  },
  {
   "cell_type": "code",
   "execution_count": 6,
   "metadata": {},
   "outputs": [],
   "source": [
    "import random\n",
    "\n",
    "random.seed(2025)\n",
    "combine_datas = list(zip(base_datas, key_datas))\n",
    "random.shuffle(combine_datas)"
   ]
  },
  {
   "cell_type": "code",
   "execution_count": 8,
   "metadata": {},
   "outputs": [],
   "source": [
    "with open(\"CHSD_train.tsv\", \"w\", encoding=\"utf-8\") as f:\n",
    "    for i in range(train_N):\n",
    "        base_text, key_text = combine_datas[i][0][\"text\"], combine_datas[i][1][\"text\"]\n",
    "        assert len(base_text) == len(key_text)\n",
    "        lst = []\n",
    "        for j in range(len(base_text)):\n",
    "            if base_text[j] != key_text[j]:\n",
    "                lst.append((j+1, base_text[j]))\n",
    "        f.write(\"CHSD-%d\" % (i) + \"\\t\" + key_text +\n",
    "                \"\\t\" + base_text + \"\\t\" + str(lst) + \"\\n\")"
   ]
  },
  {
   "cell_type": "code",
   "execution_count": 9,
   "metadata": {},
   "outputs": [],
   "source": [
    "CHSD_dev_base, CHSD_dev_key = [], []\n",
    "for i in range(train_N, N):\n",
    "    CHSD_dev_base.append(combine_datas[i][0])\n",
    "    CHSD_dev_key.append(combine_datas[i][1])"
   ]
  },
  {
   "cell_type": "code",
   "execution_count": 12,
   "metadata": {},
   "outputs": [],
   "source": [
    "with open(\"CHSD_dev_base.json\", \"x\", encoding='utf-8') as f:\n",
    "    f.write(json.dumps(CHSD_dev_base, ensure_ascii=False))\n",
    "with open(\"CHSD_dev_key.json\", \"x\", encoding='utf-8') as f:\n",
    "    f.write(json.dumps(CHSD_dev_key, ensure_ascii=False))"
   ]
  },
  {
   "cell_type": "code",
   "execution_count": null,
   "metadata": {},
   "outputs": [],
   "source": []
  }
 ],
 "metadata": {
  "kernelspec": {
   "display_name": "xc",
   "language": "python",
   "name": "python3"
  },
  "language_info": {
   "codemirror_mode": {
    "name": "ipython",
    "version": 3
   },
   "file_extension": ".py",
   "mimetype": "text/x-python",
   "name": "python",
   "nbconvert_exporter": "python",
   "pygments_lexer": "ipython3",
   "version": "3.10.11"
  }
 },
 "nbformat": 4,
 "nbformat_minor": 2
}
