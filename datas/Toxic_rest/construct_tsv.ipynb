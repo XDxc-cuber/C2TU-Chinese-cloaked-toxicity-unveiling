{
 "cells": [
  {
   "cell_type": "code",
   "execution_count": 1,
   "metadata": {},
   "outputs": [],
   "source": [
    "import json"
   ]
  },
  {
   "cell_type": "code",
   "execution_count": 2,
   "metadata": {},
   "outputs": [],
   "source": [
    "base_datas, key_datas = [], []\n",
    "with open(\"Toxic_rest_base.json\", \"r\", encoding=\"utf-8\") as f:\n",
    "    base_datas = json.loads(f.readlines()[0])\n",
    "with open(\"Toxic_rest_key.json\", \"r\", encoding=\"utf-8\") as f:\n",
    "    key_datas = json.loads(f.readlines()[0])"
   ]
  },
  {
   "cell_type": "code",
   "execution_count": 5,
   "metadata": {},
   "outputs": [],
   "source": [
    "with open(\"Toxic_rest.tsv\", \"w\", encoding=\"utf-8\") as f:\n",
    "    for i in range(len(base_datas)):\n",
    "        base_text, key_text = base_datas[i][\"text\"], key_datas[i][\"text\"]\n",
    "        assert len(base_text) == len(key_text)\n",
    "        lst = []\n",
    "        for j in range(len(base_text)):\n",
    "            if base_text[j] != key_text[j]:\n",
    "                lst.append((j+1, base_text[j]))\n",
    "        f.write(\"toxic-rest-%d\"%(i) + \"\\t\" + key_text + \"\\t\" + base_text + \"\\t\" + str(lst) + \"\\n\")"
   ]
  },
  {
   "cell_type": "code",
   "execution_count": null,
   "metadata": {},
   "outputs": [],
   "source": []
  }
 ],
 "metadata": {
  "kernelspec": {
   "display_name": "xc",
   "language": "python",
   "name": "python3"
  },
  "language_info": {
   "codemirror_mode": {
    "name": "ipython",
    "version": 3
   },
   "file_extension": ".py",
   "mimetype": "text/x-python",
   "name": "python",
   "nbconvert_exporter": "python",
   "pygments_lexer": "ipython3",
   "version": "3.10.11"
  }
 },
 "nbformat": 4,
 "nbformat_minor": 2
}
